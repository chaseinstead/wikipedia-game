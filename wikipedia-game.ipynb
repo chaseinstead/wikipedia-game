{
 "cells": [
  {
   "cell_type": "code",
   "execution_count": 13,
   "metadata": {},
   "outputs": [],
   "source": [
    "import requests\n",
    "from bs4 import BeautifulSoup\n",
    "import urllib.parse\n",
    "import threading\n",
    "base = \"https://de.wikipedia.org\"\n",
    "\n",
    "def format_page(page):\n",
    "    '''formats the page so it can be scraped. uses requests and BeautifulSoup libraries'''\n",
    "    page_ready = requests.get(page)\n",
    "    page_ready = BeautifulSoup(page_ready.text, \"html.parser\").body\n",
    "    return page_ready\n",
    "\n",
    "\n",
    "def prepare_bad_urls(base):\n",
    "    '''returns list of wikipedia subsites which shouldn't be used for the game'''\n",
    "    bad = [\"/w/\", \"/Wikipedia\", \"/wiki/Hilfe\", \"/wiki/Spezial\", \"/wiki/Datei\", \"/wiki/Kategorie\", \"/wiki/Portal\", \\\n",
    "           \"/wiki/Wikipedia:\", \"/wiki/Diskussion:\"]\n",
    "    full_bad_urls = []\n",
    "    \n",
    "    for bad_url in bad:\n",
    "        full_bad_url = urllib.parse.urljoin(base, bad_url)\n",
    "        full_bad_urls.append(full_bad_url)\n",
    "    \n",
    "    return full_bad_urls\n",
    "\n",
    "def return_wiki_links(page):\n",
    "    '''returns wiki links contained in a page. needs format_page and prepare_bad_urls functions.'''\n",
    "    full_bad_urls = prepare_bad_urls(base)\n",
    "    wiki_links_in_page = []\n",
    "    page_text = format_page(page)\n",
    "    links_in_page = page_text.find_all('a', href=True)\n",
    "    \n",
    "    for link in links_in_page:\n",
    "        full_url = urllib.parse.urljoin(base, link['href'])\n",
    "        \n",
    "        if \"#\" in full_url:\n",
    "            full_url = full_url[:full_url.find(\"#\")]\n",
    "        \n",
    "        if full_url == base:\n",
    "            continue\n",
    "        \n",
    "        if not full_url.startswith(base):\n",
    "            continue \n",
    "            \n",
    "        is_bad_url = False\n",
    "        for fbu in full_bad_urls:\n",
    "            if full_url.startswith(fbu):\n",
    "                is_bad_url = True\n",
    "                break\n",
    "        if is_bad_url == True:\n",
    "            continue\n",
    "        \n",
    "        wiki_links_in_page.append(full_url)\n",
    "        \n",
    "    return list(set(wiki_links_in_page))"
   ]
  },
  {
   "cell_type": "code",
   "execution_count": 14,
   "metadata": {},
   "outputs": [],
   "source": [
    "import copy\n",
    "import itertools\n",
    "\n",
    "def wikipedia_game(start_page, goal_page):\n",
    "    if goal_page == start_page:\n",
    "        return(\"DONE: no need for clicking, the two pages are identical. You are already on the page {}\".format(goal_page))\n",
    "\n",
    "    round_count = 1\n",
    "    already_tried = [start_page]\n",
    "    links_to_test = return_wiki_links(start_page)\n",
    "    print(\"LET'S GO: Starting to search the shortest connection between {} and {}\".format(start_page, goal_page))\n",
    "\n",
    "    while True:\n",
    "        \n",
    "        if round_count > 1:\n",
    "            links_to_test = copy.deepcopy(new_links)\n",
    "        else:\n",
    "            new_links = []\n",
    "        \n",
    "        if goal_page in links_to_test:\n",
    "            return print(\"DONE: The goal page {} can be reached with {} clicks: {} connects {} \\\n",
    "            with {}.\".format(goal_page, str(round_count), start_page, start_page, goal_page))\n",
    "        else:\n",
    "            print(\"Round {} completed without results. Starting round {}.\".format(round_count, (round_count + 1)))\n",
    "            round_count += 1\n",
    "\n",
    "        for link in links_to_test: #creates list with all links relevant for the round.\n",
    "            new_link_bunch = return_wiki_links(link)\n",
    "            new_links_bunch = [x for x in new_link_bunch if x not in already_tried]\n",
    "            \n",
    "            if goal_page in new_links_bunch:\n",
    "                return print(\"DONE: The goal page {} can be reached with {} clicks: {} \\\n",
    "                connects {} with {}.\".format(goal_page, str(round_count), start_page, start_page, goal_page))\n",
    "            \n",
    "            new_links.append(new_links_bunch)\n",
    "            already_tried.append(new_links_bunch)\n",
    "\n",
    "        #already_tried.append(new_links)\n",
    "        new_links = list(set(list(itertools.chain.from_iterable(new_links))))"
   ]
  },
  {
   "cell_type": "code",
   "execution_count": null,
   "metadata": {},
   "outputs": [
    {
     "name": "stdout",
     "output_type": "stream",
     "text": [
      "LET'S GO: Starting to search the shortest connection between https://en.wikipedia.org/wiki/Greenwich and https://de.wikipedia.org/wiki/Time_Zone\n",
      "Round 1 completed without results. Starting round 2.\n"
     ]
    }
   ],
   "source": [
    "# playing the game.\n",
    "\n",
    "start_page = \"https://en.wikipedia.org/wiki/Greenwich\"\n",
    "goal_page = \"https://de.wikipedia.org/wiki/Time_Zone\"\n",
    "\n",
    "play = wikipedia_game(start_page, goal_page)"
   ]
  },
  {
   "cell_type": "code",
   "execution_count": 3,
   "metadata": {},
   "outputs": [],
   "source": [
    "# work in progress! trying to create a graph that shows all pages searched and the path between start and goal page\n",
    "\n",
    "def prepare_node_list():\n",
    "    '''returns list that acts as a base for the anytree-nodes.'''\n",
    "    node_list = []\n",
    "    \n",
    "    for x in range(1,50000):\n",
    "        node_list.append(\"link%s\" % str(x))\n",
    "    \n",
    "    return node_list"
   ]
  }
 ],
 "metadata": {
  "celltoolbar": "Tags",
  "kernelspec": {
   "display_name": "Python 3",
   "language": "python",
   "name": "python3"
  },
  "language_info": {
   "codemirror_mode": {
    "name": "ipython",
    "version": 3
   },
   "file_extension": ".py",
   "mimetype": "text/x-python",
   "name": "python",
   "nbconvert_exporter": "python",
   "pygments_lexer": "ipython3",
   "version": "3.6.5"
  }
 },
 "nbformat": 4,
 "nbformat_minor": 2
}
