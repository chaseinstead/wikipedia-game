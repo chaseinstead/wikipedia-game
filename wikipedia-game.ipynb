{
 "cells": [
  {
   "cell_type": "code",
   "execution_count": 11,
   "metadata": {},
   "outputs": [],
   "source": [
    "import requests\n",
    "from bs4 import BeautifulSoup\n",
    "import urllib.parse\n",
    "import copy\n",
    "import itertools\n",
    "import threading, time\n",
    "import networkx as nx\n",
    "import matplotlib.pyplot as plt\n",
    "\n",
    "\n",
    "config_de = {\"base\": \"https://de.wikipedia.org\",\n",
    "             \"start_page\": \"https://de.wikipedia.org/wiki/Ernst-Th%C3%A4lmann-Park\",\n",
    "             \"goal_page\": \"https://de.wikipedia.org/wiki/Kabinettsorder\",\n",
    "             \"bad\": [\"/w/\", \"/Wikipedia\", \"/wiki/Hilfe\", \"/wiki/Spezial\", \"/wiki/Datei\", \"/wiki/Kategorie\", \n",
    "                     \"/wiki/Portal\", \"/wiki/Wikipedia:\", \"/wiki/Diskussion:\"]}\n",
    "\n",
    "config_en = {\"base\": \"https://en.wikipedia.org\",\n",
    "             \"start_page\": \"https://en.wikipedia.org/wiki/New_Horizons\",\n",
    "             \"goal_page\": \"https://en.wikipedia.org/wiki/Silent_film\",\n",
    "             \"bad\": [\"/w/\", \"/Wikipedia\", \"/wiki/Help\", \"/wiki/Special\", \"/wiki/File\", \"/wiki/Category\", \n",
    "                     \"/wiki/Portal\", \"/wiki/Wikipedia:\", \"/wiki/Discussion:\"]}\n",
    "\n",
    "\n",
    "# choose your config here:\n",
    "config = config_de\n",
    "\n",
    "base = config[\"base\"]\n",
    "bad = config[\"bad\"]"
   ]
  },
  {
   "cell_type": "code",
   "execution_count": 12,
   "metadata": {},
   "outputs": [],
   "source": [
    "def format_page(page):\n",
    "    '''formats the page so it can be scraped. uses requests and BeautifulSoup libraries'''\n",
    "    page_ready = BeautifulSoup(requests.get(page).text, \"html.parser\").body\n",
    "    return page_ready\n",
    "\n",
    "\n",
    "def prepare_bad_urls(base, bad):\n",
    "    '''returns list of wikipedia subsites which shouldn't be used for the game'''\n",
    "    full_bad_urls = []\n",
    "    \n",
    "    for bad_url in bad:\n",
    "        full_bad_url = urllib.parse.urljoin(base, bad_url)\n",
    "        full_bad_urls.append(full_bad_url)\n",
    "    \n",
    "    return full_bad_urls\n",
    "\n",
    "\n",
    "def is_bad(full_bad_urls, url):\n",
    "    '''determines whether a link is a \"bad\" link, i.e. should not be considered in the game'''\n",
    "    for fbu in full_bad_urls:\n",
    "        if url.startswith(fbu):\n",
    "            return True\n",
    "        \n",
    "    return False\n",
    "    \n",
    "\n",
    "def clean(link):\n",
    "    '''cleans linklist: removes external links and removes #'''\n",
    "    full_url = urllib.parse.urljoin(base, link['href'])\n",
    "        \n",
    "    if \"#\" in full_url:\n",
    "        full_url = full_url[:full_url.find(\"#\")]\n",
    "        \n",
    "    if full_url == base:\n",
    "        return \"bad\"\n",
    "        \n",
    "    if not full_url.startswith(base):\n",
    "        return \"bad\"\n",
    "    \n",
    "    return full_url\n",
    "\n",
    "\n",
    "def return_wiki_links(page):\n",
    "    '''returns list of wiki links contained in a page.'''\n",
    "    page_text = format_page(page)\n",
    "    links_in_page = list(set(page_text.find_all('a', href=True)))\n",
    "    \n",
    "    wiki_links_in_page = [clean(link) for link in links_in_page]\n",
    "    \n",
    "    full_bad_urls = prepare_bad_urls(base, bad)\n",
    "    wiki_links_in_page = [link for link in wiki_links_in_page if not is_bad(full_bad_urls, link)]\n",
    "    \n",
    "    return [link for link in wiki_links_in_page if link != \"bad\"]"
   ]
  },
  {
   "cell_type": "code",
   "execution_count": 13,
   "metadata": {},
   "outputs": [],
   "source": [
    "class StoppableThread(threading.Thread):\n",
    "    '''necessary edit of threading.Thread: progress thread needs to be \n",
    "    stopped once the goal page has been found'''\n",
    "    \n",
    "    def __init__(self, *args, **kwargs):\n",
    "        super().__init__(*args, **kwargs)\n",
    "        self._stop_event = threading.Event()\n",
    "    \n",
    "    def stop(self):\n",
    "        self._stop_event.set()\n",
    "\n",
    "    def stopped(self):\n",
    "        return self._stop_event.is_set()\n",
    "\n",
    "class ProgressMeter(StoppableThread):\n",
    "    '''implements status info (number of links searched) that stops once the goal page is found.\n",
    "    .stop() must be called at the moment the goal page is found'''\n",
    "    def run(self):\n",
    "        \n",
    "        time.sleep(30)\n",
    "        total_secs = 30\n",
    "        \n",
    "        while not self.stopped():\n",
    "            print(\"Stay tuned - {} links searched, none matched the goal page so far...\".format(len(already_tried)))\n",
    "            time.sleep(30)\n",
    "            total_secs += 30\n",
    "        \n",
    "        print(\"In total, {} links were searched in {} minutes.\".format(len(already_tried), round(total_secs / 60, 1)))"
   ]
  },
  {
   "cell_type": "code",
   "execution_count": 14,
   "metadata": {},
   "outputs": [],
   "source": [
    "def wikipedia_game(start_page, goal_page):\n",
    "    \n",
    "    urllen = len(\"{}/wiki/\".format(base))\n",
    "    G.add_node(start_page[urllen:])\n",
    "    \n",
    "    if goal_page == start_page:\n",
    "        print(\"DONE: no need for searching a connection, the two pages are identical.\")\n",
    "        return print(\"You are already on {}\".format(goal_page))\n",
    "\n",
    "    round_count = 1\n",
    "    \n",
    "    progressthread = ProgressMeter()\n",
    "    progressthread.start()\n",
    "    \n",
    "    links_to_test = return_wiki_links(start_page)\n",
    "    [G.add_edge(start_page[urllen:], link[urllen:]) for link in links_to_test]\n",
    "    \n",
    "    print(\"LET'S GO: Starting to search the shortest connection between {} and {}\".format(start_page, goal_page))\n",
    "    \n",
    "    parent_page = start_page # important for drawing...?\n",
    "\n",
    "    while True:\n",
    "        \n",
    "        if round_count > 1:\n",
    "            links_to_test = copy.deepcopy(new_links)\n",
    "        else:\n",
    "            new_links = []\n",
    "        \n",
    "        if goal_page in links_to_test:\n",
    "            G.add_edge(goal_page[urllen:], start_page[urllen:])\n",
    "            return print(\"DONE: The goal page {} can be reached with one click: {} is a link in {}.\".format(goal_page, goal_page, goal_page))\n",
    "        else:\n",
    "            print(\"Round {} completed without results. Starting round {}.\".format(round_count, (round_count + 1)))\n",
    "            round_count += 1\n",
    "\n",
    "            \n",
    "        for link in links_to_test: #creates list with all links relevant for the round.\n",
    "            \n",
    "            parent_page = link\n",
    "            \n",
    "            new_links_bunch = [x for x in return_wiki_links(link) if x not in already_tried]\n",
    "            \n",
    "            if goal_page in new_links_bunch:\n",
    "                G.add_edge(goal_page[urllen:], parent_page[urllen:])\n",
    "                progressthread.stop()\n",
    "                return print(\"DONE: The goal page can be reached with {} clicks: {} connects {} with {}.\".format(str(round_count), link, start_page, goal_page, len(already_tried + new_links_bunch)))\n",
    "            \n",
    "            new_links.append(new_links_bunch)\n",
    "            \n",
    "            [already_tried.append(link) for link in new_links_bunch]\n",
    "            [G.add_edge(parent_page[urllen:], link[urllen:]) for link in new_links_bunch]\n",
    "\n",
    "        new_links = list(set(list(itertools.chain.from_iterable(new_links))))"
   ]
  },
  {
   "cell_type": "code",
   "execution_count": 17,
   "metadata": {
    "scrolled": false
   },
   "outputs": [
    {
     "name": "stdout",
     "output_type": "stream",
     "text": [
      "LET'S GO: Starting to search the shortest connection between https://de.wikipedia.org/wiki/Ernst-Th%C3%A4lmann-Park and https://de.wikipedia.org/wiki/Kabinettsorder\n",
      "Round 1 completed without results. Starting round 2.\n",
      "DONE: The goal page can be reached with 2 clicks: https://de.wikipedia.org/wiki/Berliner_Stadtreinigung connects https://de.wikipedia.org/wiki/Ernst-Th%C3%A4lmann-Park with https://de.wikipedia.org/wiki/Kabinettsorder.\n",
      "In total, 2383 links were searched in 0.5 minutes.\n"
     ]
    },
    {
     "data": {
      "image/png": "[encoded data removed]",
      "text/plain": [
       "<Figure size 432x288 with 1 Axes>"
      ]
     },
     "metadata": {},
     "output_type": "display_data"
    }
   ],
   "source": [
    "# now play the game:\n",
    "already_tried = [config[\"start_page\"]]\n",
    "\n",
    "G=nx.karate_club_graph()\n",
    "\n",
    "wikipedia_game(config[\"start_page\"], config[\"goal_page\"])\n",
    "\n",
    "urllen = len(\"{}/wiki/\".format(base))\n",
    "\n",
    "pos = nx.spring_layout(G)\n",
    "nx.draw(G,pos,node_color='k')\n",
    "\n",
    "#nx.draw(G, with_labels = True, node_size = 2500, font_size = 8) \n",
    "#plt.savefig(\"path.pdf\")"
   ]
  },
  {
   "cell_type": "code",
   "execution_count": 16,
   "metadata": {},
   "outputs": [
    {
     "data": {
      "text/plain": [
       "[['Ernst-Th%C3%A4lmann-Park', 'Berliner_Stadtreinigung', 'Kabinettsorder']]"
      ]
     },
     "execution_count": 16,
     "metadata": {},
     "output_type": "execute_result"
    }
   ],
   "source": [
    "def show_path(Graph):\n",
    "    '''prints a list of the path from start to goal!'''\n",
    "    return [path for path in nx.all_simple_paths(Graph, source=config[\"start_page\"][urllen:], \n",
    "                target=config[\"goal_page\"][urllen:])]\n",
    "\n",
    "show_path(G)"
   ]
  }
 ],
 "metadata": {
  "celltoolbar": "Tags",
  "kernelspec": {
   "display_name": "Python 3",
   "language": "python",
   "name": "python3"
  },
  "language_info": {
   "codemirror_mode": {
    "name": "ipython",
    "version": 3
   },
   "file_extension": ".py",
   "mimetype": "text/x-python",
   "name": "python",
   "nbconvert_exporter": "python",
   "pygments_lexer": "ipython3",
   "version": "3.6.5"
  }
 },
 "nbformat": 4,
 "nbformat_minor": 2
}
